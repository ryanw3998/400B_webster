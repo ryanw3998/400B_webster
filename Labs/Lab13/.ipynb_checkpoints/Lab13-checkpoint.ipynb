{
 "cells": [
  {
   "cell_type": "markdown",
   "metadata": {
    "collapsed": true
   },
   "source": [
    "# In Class Lab 13 Template\n",
    "# Cosmological Tools\n",
    "\n",
    "In this lab we will build on the Class called `CosmologicalTools` that we developed as part of Lab 12. \n",
    "\n",
    "For Lab 13, we will create functions that compute: Look Back Time, Comoving Distance, Luminosity Distance and Angular Diameter Distance. \n"
   ]
  },
  {
   "cell_type": "code",
   "execution_count": 1,
   "metadata": {},
   "outputs": [],
   "source": [
    "# import modules\n",
    "import numpy as np\n",
    "import astropy.units as u\n",
    "\n",
    "# For Lab 12: Import the constant for the speed of light\n",
    "from astropy.constants import c\n",
    "\n",
    "# import plotting modules\n",
    "import matplotlib.pyplot as plt\n",
    "import matplotlib\n",
    "%matplotlib inline\n",
    "\n",
    "\n",
    "# Lab 12 : added\n",
    "# integrating tools from SciPy  \n",
    "from scipy.integrate import simps\n"
   ]
  },
  {
   "cell_type": "code",
   "execution_count": 2,
   "metadata": {},
   "outputs": [],
   "source": [
    "# Define the benchmark cosmology at z =0\n",
    "# Planck 2016 results. XIII. Cosmological parameters   \n",
    "# Planck Collaboration+2016 A&A 594 13  Table 4, column 2 \n",
    "\n",
    "OmegaM0_planck = 0.308   # Matter Density Parameter\n",
    "OmegaR0_planck = 8.24e-5  # Radiation Density Parameter\n",
    "OmegaL0_planck = 0.692  # Dark Energy Density Parameter\n",
    "h_planck = 0.6781   # Hubble Constant  100 h km/s/Mpc\n",
    "        "
   ]
  },
  {
   "cell_type": "code",
   "execution_count": 3,
   "metadata": {},
   "outputs": [],
   "source": [
    "# Define the Einstein-DeSitter cosmology (Matter Dominated)\n",
    "OmegaMD = 1\n",
    "OmegaRD = 0\n",
    "OmegaLD = 0\n",
    "# h is the same = h_planck\n",
    "\n"
   ]
  },
  {
   "cell_type": "markdown",
   "metadata": {},
   "source": [
    "\n",
    "# Part 1 :  Look Back Time\n",
    "\n",
    "A) \n",
    "\n",
    "Complete the function ``LookBackTime`` that takes as inputs the desired redshift and returns the corresponding time (Gyr ago). To do this, we need to Numerically integrate :\n",
    "\n",
    "\n",
    "$ t_L = \\int_0^z \\frac{dz'}{(1+z') H(z')}$\n",
    "\n",
    "\n",
    "The scipy function ``simps`` is really useful for numerical integration. At the start of the program I have \n",
    "imported this module:  ``from scipy.integrate import simps`` \n",
    "\n",
    "\n",
    "To use it, I have already defined an array with redshifts, spaced in intervals of 0.001\n",
    "    \n",
    "``zrange = np.arange(zo, ze, 1e-3)``\n",
    "\n",
    "Where zo is the redshift of the observer (it's us, so zo= 0).  And ze is the redshift of the emitter. \n",
    "\n",
    "Next define the integrand and utilize simps to integrate:\n",
    "\n",
    "``simps(y(x), x)``\n",
    "\n",
    "\n",
    "B) \n",
    "\n",
    "- How many Gyr ago was z = 1 in the benchmark cosmology? \n",
    "- What is the age of the universe in the benchmark cosmology?  Use a large z value to estimate this. \n",
    "- What is the age in the Einstein De Sitter cosmology (where $\\Omega_m=1$ and all other density parameters are 0) ? \n",
    "- Which cosmology results in the youngest age for the universe? \n",
    "\n",
    "\n",
    "C) \n",
    "\n",
    "Complete the plot template for Look Back Time as a function of 1+ z for both the benchmark and Einstein De Sitter cosmologies. You will need loop over the ``LookBackTime`` function  from z = (0, 50) using a list comprehension. Follow the instructions in the template. \n",
    "\n",
    "List Comprehension Syntax: ``[ expression for item in list if conditional ]``\n",
    "This is equivalent to:\n",
    "\n",
    "``for item in list:``\n",
    "\n",
    "``     if conditional:``\n",
    "    \n",
    "``        expression``\n"
   ]
  },
  {
   "cell_type": "markdown",
   "metadata": {},
   "source": [
    "# Part 2:  Comoving and Proper Distance\n",
    "\n",
    "\n",
    "A)\n",
    "\n",
    "Complete the function  ``ComovingDistance`` that takes as input: the redshift when the photon was observed and the redshift when the photon was emitted.  The function returns the Comoving Radial Distance from an observer at z=z_o, $D_C(z)$, by numerically integrating the following: \n",
    "\n",
    "$D_C(z) = c \\int_{z_0}^{z_e} \\frac{dz'}{H(z)}$\n",
    "\n",
    "Where $c$ is the speed of light.  If $z_0$=0, $D_C(0)$ is equivalent to the proper distance to that object today (line of sight distance).\n",
    " \n",
    "B)\n",
    "- What is the size of the observable universe in the Benchmark cosmology today?  (use a large redshift) \n",
    "- What is the size in the Einstein De Sitter cosmology?  Which is smaller? \n",
    "\n",
    "\n",
    "C)\n",
    "\n",
    "What is the current radial distance between two galaxies that are closely located on the sky, where one is at z=0.01 and the second galaxy is at z =0.05 ?\n",
    "\n",
    "\n",
    "D) \n",
    "\n",
    "Complete the function ``ProperDistance`` that takes as input the the redshift when the photon was observed and emitted and returns the Proper Distance at that observed redshift.  I.e. it computes:\n",
    "\n",
    "$\\frac{D_C(z)}{(1+z_0)}$  \n",
    "\n",
    "If $z_0$=0 this function returns the same value as the `ComovingDistance` function.\n",
    "\n",
    "\n",
    "E) \n",
    "\n",
    "What is the size of the observable universe at z=2 ? \n",
    "\n",
    "F) \n",
    "\n",
    "Plot the Horizon Distance as a Function of Redshift out to z=10 for the BenchMark and Einstein DeSitter Cosmology\n",
    "\n",
    "\n"
   ]
  },
  {
   "cell_type": "markdown",
   "metadata": {},
   "source": [
    "# Part 3:  Luminosity Distance\n",
    "\n",
    "Determining distances to standard candles\n",
    "\n",
    "\n",
    "A)\n",
    "\n",
    "Complete the function ``LuminosityDistanc`` that takes as input the emitted redshift and returns\n",
    "\n",
    "$D_L = D_C(1+z)$\n",
    "\n",
    "B)\n",
    "\n",
    "Consider a Type 1A  Supernova (absolute magnitude M = -19.3 $\\pm$ 0.3) that goes off at an unknown redshift.  We measure an apparent magnitude m = 25.1. \n",
    "\n",
    "- What is the inferred Luminosity Distance ($D_{LSne}$) ? \n",
    "\n",
    "\n",
    "$m-M = 5 Log(D_{LSne}/{\\rm Mpc})  + 25  \\qquad  D_{LSne} =  10^{(m - M - 25)/5}$\n",
    "\n",
    "\n",
    "-  Using the function ``LuminosityDistance``, what redshift most closely returns the inferred $D_{LSne}$?\n",
    "\n",
    "-  Using the function ``ProperDistance``, what is the proper distance from an observer on earth to the supernova? \n",
    "(note you could equivalently use the function ``ComovingDistance``)\n"
   ]
  },
  {
   "cell_type": "markdown",
   "metadata": {},
   "source": [
    "# Part 4 : Angular Diameter Distance\n",
    "\n",
    "Translating angular separations into projected distances. \n",
    "\n",
    "A)\n",
    "\n",
    "Complete the function ``AngularDiameterDistance``, which takes as input the desired redshift and returns\n",
    "\n",
    "$D_A = D_C/(1+z)$. \n",
    "\n",
    "B)\n",
    "\n",
    "Complete the function ``Separation``, which takes as input the desired redshift and angle (assumed to be in arcsec) between two galaxies and returns their projected separation. \n",
    "\n",
    "\n",
    "$\\theta = \\frac{D_{\\rm sep}}{D_A}$\n",
    "\n",
    "\n",
    "C) \n",
    "\n",
    "Consider two galaxies that are located at an average redshift of 1.0 and separated by an angle of 1''.  What is their physical separation in kpc ?\n",
    "\n"
   ]
  },
  {
   "cell_type": "code",
   "execution_count": 62,
   "metadata": {},
   "outputs": [],
   "source": [
    "class CosmologicalTools:\n",
    "    # Define a class that provides functions to compute various cosmological quantities\n",
    "    # for a given cosmology  \n",
    "        \n",
    "    def __init__(self, OmegaM0, OmegaR0, OmegaL0, h):\n",
    "        # initialize the instance of the class - for any given Cosmology\n",
    "        # Input:    Omega M matter density parameter at z=0\n",
    "        #           Omega R radiation density parameter at z=0\n",
    "        #           Omega L  dark energy density parameter at z=0\n",
    "        #           h  normalization for the hubble parameter at z=0\n",
    "        \n",
    "        # initialize the cosmology at z=0\n",
    "        self.OmegaM0 = OmegaM0    ### Matter Density Parameter\n",
    "        self.OmegaR0 = OmegaR0    ### Radiation Density Parameter\n",
    "        self.OmegaL0 = OmegaL0    ### Dark Energy Density Parameter\n",
    "        self.OmegaK0 = 1 - (OmegaM0 + OmegaR0 + OmegaL0)    #### Curvature Density Parameter\n",
    "    \n",
    "        self.h = h   # Normalization of Hubble Parameter   \n",
    "        self.Ho = h*100*u.km/u.s/u.Mpc #  Hubble Constant at z=0  100 h km/s/Mpc\n",
    "    \n",
    "    \n",
    "    # Question 1 A)\n",
    "    def HubbleParameter(self, z):\n",
    "        # Function that defines the Hubble Parameter as a function of redshift\n",
    "        # Input:   Redshift z \n",
    "        # Returns: The Hubble parameter at the given redshift in units of km/s/Mpc        \n",
    "        \n",
    "        # FILL THIS IN \n",
    "        M = self.OmegaM0*(1+z)**3\n",
    "        R = self.OmegaR0*(1+z)**4\n",
    "        L = self.OmegaL0\n",
    "        K = self.OmegaK0*(1+z)**2\n",
    "        \n",
    "        return  self.Ho*np.sqrt(M+R+L+K)\n",
    "\n",
    "    \n",
    "    \n",
    "    # Question 2 A)\n",
    "    def OmegaM_Z(self,z):\n",
    "        # Function that defines the matter density parameter as a function of redshift\n",
    "        # Input:  Redshift z . Can be an array\n",
    "        # Output:  Matter Density Parameter at the given redshift.\n",
    "        \n",
    "        # FILL THIS IN\n",
    "        return self.OmegaM0*(1+z)**3*self.Ho**2/self.HubbleParameter(z)**2\n",
    "    \n",
    "    def OmegaR_Z(self,z):\n",
    "        # Function that defines the radiation density parameter as a function of redshift\n",
    "        # Input:  Redshift z . Can be an array\n",
    "        # Output:  Radiation Density Parameter at the given redshift.\n",
    "        \n",
    "        # FILL THIS IN\n",
    "        return self.OmegaR0*(1+z)**4*self.Ho**2/self.HubbleParameter(z)**2\n",
    "    \n",
    "    \n",
    "    def OmegaL_Z(self,z):\n",
    "        # Function that defines the dark energy density parameter as a function of redshift\n",
    "        # Input:  Redshift z . Can be an array\n",
    "        # Output:  Dark Energy Density Parameter at the given redshift.\n",
    "        \n",
    "        # FILL THIS IN\n",
    "        return self.OmegaL0*self.Ho**2/self.HubbleParameter(z)**2\n",
    "    \n",
    "    \n",
    "    ###########################\n",
    "    # Lab 12 Starts Here\n",
    "    ###########################\n",
    "    \n",
    "    \n",
    "    # Question 1 A) \n",
    "    \n",
    "    def LookBackTime(self, ze):\n",
    "    # Function that computes the look back time at a given redshift\n",
    "    # i.e. the difference in time from when a photon was emitted to when it is observed at present day.\n",
    "    # Input:    Redshift emitted (ze). This cannot be an array. \n",
    "    # Output:   Time in units of Gyr Ago  (relative to present day). This is not an arrat    \n",
    "    \n",
    "        # Observed redshift  \n",
    "        zo = 0\n",
    "    \n",
    "        # define an array with redshifts, spaced in intervals of 0.001 from zo to ze\n",
    "        zrange = np.arange(zo, ze, 1e-3)\n",
    "        \n",
    "        # y = (1/H(zrange)).to(GYR)  /  (1+zrange)\n",
    "        # But need to correct units of 1/H to be Gyr rather than seconds  \n",
    "        # use the astropy.units functionality .to(units)\n",
    "        # FILL THIS IN \n",
    "        y = (1/self.HubbleParameter(zrange)).to(u.Gyr)/(1+zrange)\n",
    "        \n",
    "        # Integrate y numerically over zrange and return in units of Gyr\n",
    "        # FILL THIS IN \n",
    "        return simps(y,zrange)*u.Gyr\n",
    "    \n",
    "    # Question 2 A) \n",
    "    \n",
    "    def ComovingDistance(self, ze):\n",
    "    # Function that returns the Comoving Radial Distance to an object at a given redshift\n",
    "    # Distance to a galaxy that is moving with the Hubble Flow (expanding universe) at a given redshift\n",
    "    # Input:    Redshift emitted (ze) \n",
    "    # Output:   DC in Mpc\n",
    "\n",
    "    \n",
    "        # define an array with redshifts, spaced  in intervals of 0.001\n",
    "        # Note that if you want redshifts smaller than 0.001 you'll need to refine this\n",
    "        zrange = np.arange(0, ze, 1e-3)\n",
    "    \n",
    "        # 1/H(zrange)*speed of light\n",
    "        # Speed of light is loaded in modules from astropy, but in units of m/s --> need in km/s\n",
    "        # FILL THIS IN\n",
    "        y = 1/self.HubbleParameter(zrange)*c.to(u.km/u.s)\n",
    "    \n",
    "        # Integrate y numerically over zrange and return in units of Mpc\n",
    "        # FILL THIS IN \n",
    "        return simps(y,zrange)*u.Mpc\n",
    "    \n",
    "    \n",
    "    # Question 2 D) \n",
    "    \n",
    "    def ProperDistance(self, zo, ze):\n",
    "    # Function that returns the Proper Distance at a given redshift (the distance measured by a ruler)\n",
    "    # Input:    Redshift observed (zo) \n",
    "    #           Redshift of object (ze)\n",
    "    # Output:   Proper Distance in Mpc\n",
    "    \n",
    "        # FILL THIS IN\n",
    "        # Comoving Distance (to emitted photon) [ independent of time] x the scale factor at the time of observation.\n",
    "        return self.ComovingDistance(ze)/(1+zo)\n",
    "\n",
    " \n",
    "    # Question 3 A)\n",
    "    \n",
    "    def LuminosityDistance(self, ze): \n",
    "    # Function that computes DL, the luminosity distance of a galaxy at a given redshift\n",
    "    # Input:    Redshift emitted (ze) \n",
    "    # Output:   DL  in Mpc\n",
    "    \n",
    "        # Return  DL = DC*(1+z)\n",
    "        # FILL THIS IN\n",
    "        return self.ComovingDistance(ze) * (1+ze)\n",
    "    \n",
    "\n",
    "    # Question 4 A)\n",
    "    \n",
    "    def AngularDiameterDistance(self, ze): \n",
    "    # Function that computes DA, the angular diameter distance at a given redshift\n",
    "    # This is the proper distance between us and the source, at the time the photons were emitted.\n",
    "    # Physical size of angular separation of 1 degree\n",
    "    # Input:   Redshift emitted (ze)\n",
    "    # Output:   DA  in Mpc\n",
    "    \n",
    "        # # FILL THIS IN\n",
    "        # DA = DC/(1+z_emitted) = DL/(1+z)**2\n",
    "        return self.ComovingDistance(ze)/(1+ze)\n",
    "    \n",
    "    \n",
    "    # Question 4 B) \n",
    "    \n",
    "    def Separation(self, ze, angle):\n",
    "    # Function to compute the physical distance corresponding to an angular separation at a given redshift\n",
    "    # Input:    Redshift emmitted ze ,  \n",
    "    #           angle: Angle between galaxies in arcsec\n",
    "    # Output:  Distance in kpc\n",
    "    \n",
    "        # convert angle from arcsec to radians\n",
    "        angleRad = (angle*u.arcsec).to(u.rad)\n",
    "    \n",
    "         # FILL THIS IN\n",
    "        #   DA*angleRad\n",
    "        return (self.AngularDiameterDistance(ze)*angleRad/u.rad).to(u.kpc)\n",
    "    \n",
    "    \n",
    "\n",
    "    \n",
    "    "
   ]
  },
  {
   "cell_type": "code",
   "execution_count": 63,
   "metadata": {},
   "outputs": [],
   "source": [
    "# Define here an instance of the Class Cosmological Tools that follows the Benchmark Cosmology\n",
    "BenchMark = CosmologicalTools(OmegaM0_planck,OmegaR0_planck,OmegaL0_planck, h_planck)\n"
   ]
  },
  {
   "cell_type": "code",
   "execution_count": 64,
   "metadata": {},
   "outputs": [],
   "source": [
    "# Define a New Instance of the Class with Einstein De Sitter Cosmology \n",
    "DeSitter = CosmologicalTools(OmegaMD, OmegaRD, OmegaLD, h_planck)\n"
   ]
  },
  {
   "cell_type": "markdown",
   "metadata": {},
   "source": [
    "##  Question 1 B) "
   ]
  },
  {
   "cell_type": "code",
   "execution_count": null,
   "metadata": {},
   "outputs": [],
   "source": [
    "# Question 1 B) \n",
    "\n",
    "# How many Gyr ago was z=1 in the Benchmark cosmology?\n"
   ]
  },
  {
   "cell_type": "code",
   "execution_count": 9,
   "metadata": {},
   "outputs": [
    {
     "data": {
      "text/latex": [
       "$7.926721 \\; \\mathrm{Gyr}$"
      ],
      "text/plain": [
       "<Quantity 7.92672101 Gyr>"
      ]
     },
     "execution_count": 9,
     "metadata": {},
     "output_type": "execute_result"
    }
   ],
   "source": [
    "BenchMark.LookBackTime(1)"
   ]
  },
  {
   "cell_type": "code",
   "execution_count": 10,
   "metadata": {},
   "outputs": [
    {
     "data": {
      "text/latex": [
       "$10.5082 \\; \\mathrm{Gyr}$"
      ],
      "text/plain": [
       "<Quantity 10.50819984 Gyr>"
      ]
     },
     "execution_count": 10,
     "metadata": {},
     "output_type": "execute_result"
    }
   ],
   "source": [
    "BenchMark.LookBackTime(2)"
   ]
  },
  {
   "cell_type": "code",
   "execution_count": 11,
   "metadata": {},
   "outputs": [
    {
     "data": {
      "text/latex": [
       "$13.794599 \\; \\mathrm{Gyr}$"
      ],
      "text/plain": [
       "<Quantity 13.79459933 Gyr>"
      ]
     },
     "execution_count": 11,
     "metadata": {},
     "output_type": "execute_result"
    }
   ],
   "source": [
    "# Question 1 B) \n",
    "\n",
    "# What is the Age of the Universe in the Benchmark Cosmology  (put in a large z)\n",
    "BenchMark.LookBackTime(1000)"
   ]
  },
  {
   "cell_type": "code",
   "execution_count": 12,
   "metadata": {},
   "outputs": [
    {
     "data": {
      "text/latex": [
       "$9.6127547 \\; \\mathrm{Gyr}$"
      ],
      "text/plain": [
       "<Quantity 9.61275474 Gyr>"
      ]
     },
     "execution_count": 12,
     "metadata": {},
     "output_type": "execute_result"
    }
   ],
   "source": [
    "# What is the Age of the Universe in the Einstein De Sitter Cosmology\n",
    "DeSitter.LookBackTime(1000)"
   ]
  },
  {
   "cell_type": "code",
   "execution_count": 15,
   "metadata": {},
   "outputs": [
    {
     "data": {
      "text/latex": [
       "$14.419587 \\; \\mathrm{Gyr}$"
      ],
      "text/plain": [
       "<Quantity 14.4195874 Gyr>"
      ]
     },
     "execution_count": 15,
     "metadata": {},
     "output_type": "execute_result"
    }
   ],
   "source": [
    "# Inverse of the Hubble Parameter today is roughly the age of the universe. but not exactly.\n",
    "(1/BenchMark.HubbleParameter(0).to(u.km/u.km/u.Gyr))"
   ]
  },
  {
   "cell_type": "markdown",
   "metadata": {},
   "source": [
    "####  Which cosmology results in a younger universe?\n",
    "\n",
    "Einstein-DeSitter (Matter Dominated) Universe would be younger today\n"
   ]
  },
  {
   "cell_type": "markdown",
   "metadata": {},
   "source": [
    "## Question 1 C) "
   ]
  },
  {
   "cell_type": "code",
   "execution_count": 16,
   "metadata": {},
   "outputs": [],
   "source": [
    "# Question 1 C)   Plotting Look Back Time\n",
    "\n",
    "# First define an array of redshift for the X axis\n",
    "# Define an array of redshift to some max redshift\n",
    "zmax = 50\n",
    "zmin = 0.001\n",
    "zrange = np.arange(zmin, zmax, 0.01)"
   ]
  },
  {
   "cell_type": "code",
   "execution_count": 47,
   "metadata": {},
   "outputs": [],
   "source": [
    "# Create a list comprehension to compute an array of Look Back Time for each element in zrange\n",
    "# NOTE THIS GENERATES A LIST NOT AN ARRAY\n",
    "\n",
    "TimeBenchMark = [BenchMark.LookBackTime(i).value for i in zrange2]"
   ]
  },
  {
   "cell_type": "code",
   "execution_count": 48,
   "metadata": {},
   "outputs": [],
   "source": [
    "TimeDeSitter = [DeSitter.LookBackTime(i).value for i in zrange2]"
   ]
  },
  {
   "cell_type": "code",
   "execution_count": 21,
   "metadata": {},
   "outputs": [
    {
     "data": {
      "image/png": "[encoded data removed]",
      "text/plain": [
       "<Figure size 720x720 with 1 Axes>"
      ]
     },
     "metadata": {
      "needs_background": "light"
     },
     "output_type": "display_data"
    }
   ],
   "source": [
    "# Plot the Look Back Time as a Function of Redshift out to z=10\n",
    "################################################################\n",
    "\n",
    "fig = plt.figure(figsize=(10,10))\n",
    "ax = plt.subplot(111)\n",
    "\n",
    "\n",
    "# Look Back Time Benchmark\n",
    "# FILL THIS IN\n",
    "plt.semilogx(1+zrange , TimeBenchMark,  color='blue', linewidth=5, label='Benchmark')\n",
    "\n",
    "\n",
    "# Look Back Time Einstein De Sitter\n",
    "# FILL THIS IN\n",
    "plt.semilogx(1+zrange ,  TimeDeSitter, color='red', linewidth=5, label='DeSitter')\n",
    "\n",
    "\n",
    "# Add axis labels\n",
    "plt.xlabel('1+z', fontsize=22)\n",
    "plt.ylabel('Look Back Time (Gyr Ago)', fontsize=22)\n",
    "\n",
    "#adjust tick label font size\n",
    "label_size = 22\n",
    "matplotlib.rcParams['xtick.labelsize'] = label_size \n",
    "matplotlib.rcParams['ytick.labelsize'] = label_size\n",
    "\n",
    "legend = ax.legend(loc='upper left',fontsize=20)\n",
    "\n",
    "# Save to a file\n",
    "ax.set_rasterized(True)\n",
    "plt.savefig('LookBackTime.png', rasterized=True, dpi=350)"
   ]
  },
  {
   "cell_type": "markdown",
   "metadata": {},
   "source": [
    "## Question 2 B)"
   ]
  },
  {
   "cell_type": "code",
   "execution_count": 25,
   "metadata": {},
   "outputs": [
    {
     "data": {
      "text/latex": [
       "$13892.81 \\; \\mathrm{Mpc}$"
      ],
      "text/plain": [
       "<Quantity 13892.80996183 Mpc>"
      ]
     },
     "execution_count": 25,
     "metadata": {},
     "output_type": "execute_result"
    }
   ],
   "source": [
    "# Question 2 B\n",
    "\n",
    "# What is the size of the presently observable universe in the Benchmark cosmology ? (pick a large z)\n",
    "# this is the size assuming the present day scale factor \n",
    "BenchMark.ComovingDistance(1000)"
   ]
  },
  {
   "cell_type": "code",
   "execution_count": 26,
   "metadata": {},
   "outputs": [
    {
     "data": {
      "text/latex": [
       "$8562.658 \\; \\mathrm{Mpc}$"
      ],
      "text/plain": [
       "<Quantity 8562.65801348 Mpc>"
      ]
     },
     "execution_count": 26,
     "metadata": {},
     "output_type": "execute_result"
    }
   ],
   "source": [
    "# What is the size of the presently observable universe in the Einstein De Sitter cosmology? (pick a large z)\n",
    "DeSitter.ComovingDistance(1000)"
   ]
  },
  {
   "cell_type": "code",
   "execution_count": null,
   "metadata": {},
   "outputs": [],
   "source": [
    "# Which is larger? \n",
    "\n",
    "# BenchMark is larger, and accordingly the universe is older today (1 B)"
   ]
  },
  {
   "cell_type": "markdown",
   "metadata": {},
   "source": [
    "## Question 2 C)"
   ]
  },
  {
   "cell_type": "code",
   "execution_count": null,
   "metadata": {},
   "outputs": [],
   "source": [
    "# What is the current distance between two closely located galaxies on the sky, where one galaxy\n",
    "# is  at z=0.01 and the second galaxy is at z =0.05 ?"
   ]
  },
  {
   "cell_type": "code",
   "execution_count": 28,
   "metadata": {},
   "outputs": [],
   "source": [
    "z1 = 0.01\n",
    "z2 = 0.05"
   ]
  },
  {
   "cell_type": "code",
   "execution_count": 30,
   "metadata": {},
   "outputs": [
    {
     "data": {
      "text/latex": [
       "$174.44993 \\; \\mathrm{Mpc}$"
      ],
      "text/plain": [
       "<Quantity 174.44993323 Mpc>"
      ]
     },
     "execution_count": 30,
     "metadata": {},
     "output_type": "execute_result"
    }
   ],
   "source": [
    "# What is their comoving separation at each redshift\n",
    "\n",
    "Dist_z1 = BenchMark.ComovingDistance(z1)\n",
    "Dist_z2 = BenchMark.ComovingDistance(z2)\n",
    "# Find the difference\n",
    "Dist = Dist_z2-Dist_z1\n",
    "Dist"
   ]
  },
  {
   "cell_type": "code",
   "execution_count": 31,
   "metadata": {},
   "outputs": [
    {
     "data": {
      "text/latex": [
       "$169.36887 \\; \\mathrm{Mpc}$"
      ],
      "text/plain": [
       "<Quantity 169.36886721 Mpc>"
      ]
     },
     "execution_count": 31,
     "metadata": {},
     "output_type": "execute_result"
    }
   ],
   "source": [
    "# Physical Distance AT THAT Redshift: Proper Distance = R(t)u = u/(1+z)\n",
    "# Need to multiply by the correct scale factor 1/ (1+zavg)\n",
    "\n",
    "zavg = (z1 + z2)/2\n",
    "\n",
    "Dist/(1+zavg)"
   ]
  },
  {
   "cell_type": "markdown",
   "metadata": {},
   "source": [
    "## Question 2 E)"
   ]
  },
  {
   "cell_type": "code",
   "execution_count": 36,
   "metadata": {},
   "outputs": [
    {
     "data": {
      "text/latex": [
       "$13892.81 \\; \\mathrm{Mpc}$"
      ],
      "text/plain": [
       "<Quantity 13892.80996183 Mpc>"
      ]
     },
     "execution_count": 36,
     "metadata": {},
     "output_type": "execute_result"
    }
   ],
   "source": [
    "# First double check, that the proper distance = comoving radial distance if z_obs=0   (line of sight distance)\n",
    "\n",
    "BenchMark.ProperDistance(0,1000)\n"
   ]
  },
  {
   "cell_type": "code",
   "execution_count": 37,
   "metadata": {},
   "outputs": [
    {
     "data": {
      "text/latex": [
       "$4630.9367 \\; \\mathrm{Mpc}$"
      ],
      "text/plain": [
       "<Quantity 4630.93665394 Mpc>"
      ]
     },
     "execution_count": 37,
     "metadata": {},
     "output_type": "execute_result"
    }
   ],
   "source": [
    "# What is the size of the observable universe at z=2? \n",
    "BenchMark.ProperDistance(2,1000)"
   ]
  },
  {
   "cell_type": "code",
   "execution_count": 38,
   "metadata": {},
   "outputs": [
    {
     "data": {
      "text/latex": [
       "$3 \\; \\mathrm{}$"
      ],
      "text/plain": [
       "<Quantity 3.>"
      ]
     },
     "execution_count": 38,
     "metadata": {},
     "output_type": "execute_result"
    }
   ],
   "source": [
    "# how much larger was the universe then vs now?\n",
    "# expect (1+z) factor of expansion, size of universe changes by the scale factor. \n",
    "BenchMark.ProperDistance(0,1000)/BenchMark.ProperDistance(2,1000)"
   ]
  },
  {
   "cell_type": "markdown",
   "metadata": {},
   "source": [
    "##  Question 2 F)"
   ]
  },
  {
   "cell_type": "code",
   "execution_count": 41,
   "metadata": {},
   "outputs": [],
   "source": [
    "zmax = 10\n",
    "zmin = 0.001\n",
    "zrange2 = np.arange(zmin, zmax, 0.5)"
   ]
  },
  {
   "cell_type": "code",
   "execution_count": 45,
   "metadata": {},
   "outputs": [],
   "source": [
    "# What is the size of the universe at each redshit in each cosmology\n",
    "HorizonBenchMark = [BenchMark.ProperDistance(i,1000).value for i in zrange2]\n",
    "HorizonDeSitter = [DeSitter.ProperDistance(i,1000).value for i in zrange2]\n"
   ]
  },
  {
   "cell_type": "code",
   "execution_count": 49,
   "metadata": {},
   "outputs": [
    {
     "data": {
      "image/png": "[encoded data removed]",
      "text/plain": [
       "<Figure size 720x720 with 1 Axes>"
      ]
     },
     "metadata": {
      "needs_background": "light"
     },
     "output_type": "display_data"
    }
   ],
   "source": [
    "# Plot the Horizon Distance as a Function of Redshift out to z=10\n",
    "###############################################################################\n",
    "\n",
    "fig = plt.figure(figsize=(10,10))\n",
    "ax = plt.subplot(111)\n",
    "\n",
    "\n",
    "# Comoving Distance\n",
    "# FILL THIS IN\n",
    "plt.semilogy(TimeBenchMark, HorizonBenchMark , linewidth=5, label='BenchMark')\n",
    "\n",
    "plt.semilogy(TimeDeSitter , HorizonDeSitter , linewidth=5, label='DeSitter')\n",
    "\n",
    "\n",
    "# Add axis labels\n",
    "plt.xlabel('1+z', fontsize=22)\n",
    "plt.ylabel('Horizon Distance (Mpc)', fontsize=22)\n",
    "\n",
    "\n",
    "#adjust tick label font size\n",
    "label_size = 22\n",
    "matplotlib.rcParams['xtick.labelsize'] = label_size \n",
    "matplotlib.rcParams['ytick.labelsize'] = label_size\n",
    "\n",
    "legend = ax.legend(loc='upper right',fontsize=20)\n",
    "\n",
    "# Save to a file\n",
    "ax.set_rasterized(True)\n",
    "plt.savefig('HorizonDistance.png', rasterized=True, dpi=350)"
   ]
  },
  {
   "cell_type": "markdown",
   "metadata": {},
   "source": [
    "## Question 3 B)\n",
    "\n",
    " Luminosity distances are used to measure distances and infer redshifts for standard candles. \n",
    "\n",
    " Consider that you observe a Type Ia Supernova with an apparent magnitude, m = 25.1\n",
    " Absolute magnitude of a Type Ia Supernova is -19.3±0.03 \n",
    "\n",
    " Using the Benchmark cosmology, determine this Supernova's redshift\n"
   ]
  },
  {
   "cell_type": "code",
   "execution_count": 54,
   "metadata": {},
   "outputs": [
    {
     "data": {
      "text/latex": [
       "$7585.7758 \\; \\mathrm{Mpc}$"
      ],
      "text/plain": [
       "<Quantity 7585.77575029 Mpc>"
      ]
     },
     "execution_count": 54,
     "metadata": {},
     "output_type": "execute_result"
    }
   ],
   "source": [
    "# Question 3 B) \n",
    "\n",
    "# First What is the Luminosity Distance? \n",
    "# m-M = 5*log(DL/Mpc) + 25\n",
    "\n",
    "m = 25.1\n",
    "M= -19.3\n",
    "\n",
    "DLSne = 10**((m-M-25.0)/5.)*u.Mpc\n",
    "DLSne"
   ]
  },
  {
   "cell_type": "code",
   "execution_count": 59,
   "metadata": {},
   "outputs": [
    {
     "data": {
      "text/latex": [
       "$7587.8455 \\; \\mathrm{Mpc}$"
      ],
      "text/plain": [
       "<Quantity 7587.84545591 Mpc>"
      ]
     },
     "execution_count": 59,
     "metadata": {},
     "output_type": "execute_result"
    }
   ],
   "source": [
    "# Now reverse engineer the problem. What redshift gives you the right answer? \n",
    "# in reality the redshift is determined by identifying the redshift of the host.  \n",
    "BenchMark.LuminosityDistance(1.095)"
   ]
  },
  {
   "cell_type": "code",
   "execution_count": 60,
   "metadata": {},
   "outputs": [
    {
     "data": {
      "text/latex": [
       "$3621.8833 \\; \\mathrm{Mpc}$"
      ],
      "text/plain": [
       "<Quantity 3621.88327251 Mpc>"
      ]
     },
     "execution_count": 60,
     "metadata": {},
     "output_type": "execute_result"
    }
   ],
   "source": [
    "# What is the proper distance to this supernova given our current rate of expansion? \n",
    "BenchMark.ProperDistance(0,1.095)"
   ]
  },
  {
   "cell_type": "code",
   "execution_count": null,
   "metadata": {},
   "outputs": [],
   "source": []
  },
  {
   "cell_type": "markdown",
   "metadata": {},
   "source": [
    "## Question 4 C) "
   ]
  },
  {
   "cell_type": "code",
   "execution_count": 65,
   "metadata": {},
   "outputs": [
    {
     "data": {
      "text/latex": [
       "$8.2219282 \\; \\mathrm{kpc}$"
      ],
      "text/plain": [
       "<Quantity 8.22192823 kpc>"
      ]
     },
     "execution_count": 65,
     "metadata": {},
     "output_type": "execute_result"
    }
   ],
   "source": [
    "# Question 4 C)  \n",
    "\n",
    "# Angle = Size/DA\n",
    "# What is the separation between two galaxies separated by 1 arcsec at z=1 in the Benchmark Cosmology\n",
    "rp = BenchMark.Separation(1,1)\n",
    "rp"
   ]
  },
  {
   "cell_type": "code",
   "execution_count": null,
   "metadata": {},
   "outputs": [],
   "source": []
  }
 ],
 "metadata": {
  "kernelspec": {
   "display_name": "Python 3",
   "language": "python",
   "name": "python3"
  },
  "language_info": {
   "codemirror_mode": {
    "name": "ipython",
    "version": 3
   },
   "file_extension": ".py",
   "mimetype": "text/x-python",
   "name": "python",
   "nbconvert_exporter": "python",
   "pygments_lexer": "ipython3",
   "version": "3.7.4"
  }
 },
 "nbformat": 4,
 "nbformat_minor": 2
}
