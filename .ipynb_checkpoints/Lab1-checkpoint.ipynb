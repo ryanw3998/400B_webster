{
 "cells": [
  {
   "cell_type": "markdown",
   "metadata": {},
   "source": [
    "# In Class Lab 1\n",
    "\n",
    "## Part A:  The Local Standard of Rest\n",
    "Proper motion of Sgr A* from Reid & Brunthaler 2004\n",
    "$\\mu = 6.379$ mas/yr \n",
    "\n",
    "Peculiar motion of the sun, $v_\\odot$ = 12.24 km/s  (Schonrich 2010)\n",
    "\n",
    "\n",
    "$v_{tan} = 4.74 \\frac{\\mu}{\\rm mas/yr} \\frac{R_o}{\\rm kpc} = V_{LSR} + v_\\odot$\n",
    "\n",
    "\n",
    "### a)\n",
    "\n",
    "Create a function called VLSR to compute the local standard of res (V$_{LSR}$).\n",
    "\n",
    "The function should take as input: the solar radius (R$_o$), the proper motion (mu)\n",
    "and the peculiar motion of the sun in the $v_\\odot$ direction.\n",
    "\n",
    "Compute V$_{LSR}$ using three different values R$_o$: \n",
    "1. Water Maser Distance for the Sun :  R$_o$ = 8.34 kpc   (Reid 2014 ApJ 783) \n",
    "2. GRAVITY Collaboration Distance for the Sun:  R$_o$ = 8.178 kpc   (Abuter+2019 A&A 625)\n",
    "3. Value for Distance to Sun listed in Sparke & Gallagher : R$_o$ = 7.9 kpc \n"
   ]
  },
  {
   "cell_type": "code",
   "execution_count": 1,
   "metadata": {},
   "outputs": [],
   "source": [
    "import numpy as np"
   ]
  },
  {
   "cell_type": "code",
   "execution_count": 2,
   "metadata": {},
   "outputs": [],
   "source": [
    "#Function to comput local standard of rest velocity\n",
    "\n",
    "#4.74*mu*Ro = VLSR + vsun\n",
    "def VLSR(R_o,mu,v_sun):\n",
    "    #Inputs:\n",
    "    #R_o distance from sun to galatic center (kpc)\n",
    "    #mu proper motion of sag A* 6.739 mas/yr. Default Reid & Brunthaler 2004\n",
    "    #vsun is the peculiar motion of sun in v direction (km/s). Default is from Schonrich+2010\n",
    "    \n",
    "    #Returns:\n",
    "    #VSLR, local standard of rest (km/s)\n",
    "    \n",
    "    v_lsr = 4.74*mu*R_o-v_sun\n",
    "    return(v_lsr)"
   ]
  },
  {
   "cell_type": "code",
   "execution_count": 5,
   "metadata": {},
   "outputs": [
    {
     "name": "stdout",
     "output_type": "stream",
     "text": [
      "239.9320764\n",
      "235.03376988000002\n",
      "226.628034\n"
     ]
    }
   ],
   "source": [
    "#Defining mu and v_sun\n",
    "mu=6.379 #mas/yr\n",
    "v_sun = 12.24 #km/s\n",
    "\n",
    "#Computing VLSR for different R_o values\n",
    "vlsr_reid = VLSR(8.34,mu,v_sun) #1 Calculation for VSLR w/ R_o from Reid et al 2014 (kpc)\n",
    "print(vlsr1)\n",
    "vlsr_gravity = VLSR(8.178,mu,v_sun) #2 Calculation for VSLR w/ R_o from GRAVITY (kpc)\n",
    "print(vlsr2)\n",
    "vlsr_sg = VLSR(7.9,mu,v_sun) #3 Calculation for VSLR w/ R_o from textbook by Sparke and Gallagher\n",
    "print(vlsr3)"
   ]
  },
  {
   "cell_type": "markdown",
   "metadata": {},
   "source": [
    "## b)\n",
    "\n",
    "compute the orbital period of the sun using R$_o$ from the GRAVITY Collaboration (assume circular orbit)\n",
    "\n",
    "Note that 1 km/s $\\sim$ 1kpc/Gyr"
   ]
  },
  {
   "cell_type": "code",
   "execution_count": 6,
   "metadata": {},
   "outputs": [
    {
     "name": "stdout",
     "output_type": "stream",
     "text": [
      "0.20780161788713317\n"
     ]
    }
   ],
   "source": [
    "#Calculating orbital period of sun with GRAVITY collaboration R_o\n",
    "#period = (2*pi*R_o)/v_tan\n",
    "R_o = 8.178 #kpc\n",
    "\n",
    "v_tan = vlsr_gravity +12.24\n",
    "\n",
    "per = (2*np.pi*R_o)/v_tan #units km/s ~ 1kpc/Gyr\n",
    "print(per) #obrital period in Gyr"
   ]
  },
  {
   "cell_type": "markdown",
   "metadata": {},
   "source": [
    "### c)\n",
    "\n",
    "Compute the number of rotations about the GC over the age of the universe (13.8 Gyr)"
   ]
  },
  {
   "cell_type": "code",
   "execution_count": 8,
   "metadata": {},
   "outputs": [
    {
     "name": "stdout",
     "output_type": "stream",
     "text": [
      "66.40949257428511\n"
     ]
    }
   ],
   "source": [
    "#Determining number of rotations around galatic center\n",
    "\n",
    "n_rot = 13.8/per\n",
    "\n",
    "print(n_rot)"
   ]
  },
  {
   "cell_type": "markdown",
   "metadata": {},
   "source": [
    "## Part B  Dark Matter Density Profiles\n",
    "\n",
    "### a)\n",
    "Try out Fitting Rotation Curves \n",
    "[here](http://wittman.physics.ucdavis.edu/Animations/RotationCurve/GalacticRotation.html)\n",
    "\n",
    "\n",
    "### b)\n",
    "\n",
    "In the Isothermal Sphere model, what is the mass enclosed within the solar radius (R$_o$) in units of $10^{10}$ M$_\\odot$? \n",
    "\n",
    "Recall that for the Isothermal sphere :\n",
    "$\\rho(r) = \\frac{V_{LSR}^2}{4\\pi G r^2}$\n",
    "\n",
    "Where $G$ = 4.4988e-6 kpc$^3$/Gyr$^2$/M$_\\odot$\n",
    "\n",
    "What about at 260 kpc (in units of 10$^{12}$ M$_\\odot$) ? "
   ]
  },
  {
   "cell_type": "code",
   "execution_count": 9,
   "metadata": {},
   "outputs": [],
   "source": [
    "# Gravitational constant\n",
    "G = 4.4988*10**-6 #kpc^3/Gyr^2/M_sun"
   ]
  },
  {
   "cell_type": "code",
   "execution_count": 11,
   "metadata": {},
   "outputs": [],
   "source": [
    "#Computing mass enclosed within the solar radius assuming an Isothermal Sphere Model\n",
    "\n",
    "#Density profile rho = VLSR^2 / (4*pi*G*R^2)\n",
    "#Mass = integrate rho dv\n",
    "\n",
    "#integrate rho 4*pi*r^2 dr\n",
    "#integrate VLSR^2 / (4*pi *G*r^2)*(4*pi*r^2 dr)\n",
    "#integrate VLSR^2/G dr\n",
    "#integrate VLSR^2/G dr\n",
    "\n",
    "def MassIso(r,VLSR=vlsr_gravity):\n",
    "    #Input:\n",
    "    #VLSR local standard of rest, default is vlsr from GRAVITY collab (km/s)\n",
    "    #r distance from galactic center (kpc)\n",
    "    \n",
    "    #Returns:\n",
    "    #mass enclosed (M_sun)\n",
    "    \n",
    "    return(VLSR**2/G*r)"
   ]
  },
  {
   "cell_type": "code",
   "execution_count": 13,
   "metadata": {},
   "outputs": [
    {
     "name": "stdout",
     "output_type": "stream",
     "text": [
      "10.04178579317132\n"
     ]
    }
   ],
   "source": [
    "#Computing mass enclosed out to sun's radius\n",
    "mass_solar = MassIso(R_o)/(10**10)\n",
    "\n",
    "print(mass_solar) #units of 10**10 Msun"
   ]
  },
  {
   "cell_type": "code",
   "execution_count": 14,
   "metadata": {},
   "outputs": [
    {
     "name": "stdout",
     "output_type": "stream",
     "text": [
      "319.25462291813926\n"
     ]
    }
   ],
   "source": [
    "#Computing mass enclosed within260 kpc\n",
    "mass_260 = MassIso(260)/10**10\n",
    "\n",
    "print(mass_260)"
   ]
  },
  {
   "cell_type": "markdown",
   "metadata": {},
   "source": [
    "## c) \n",
    "\n",
    "The Leo I satellite is one of the fastest moving satellite galaxies we know. \n",
    "\n",
    "\n",
    "It is moving with 3D velocity of magnitude: Vtot = 196 km/s at a distance of 260 kpc (Sohn 2013 ApJ 768)\n",
    "\n",
    "If we assume that Leo I is moving at the escape speed:\n",
    "\n",
    "$v_{esc}^2 = 2|\\Phi| = 2 \\int G \\frac{\\rho(r)}{r}dV $ \n",
    "\n",
    "and assuming the Milky Way is well modeled by a Hernquist Sphere with a scale radius of $a$= 30 kpc, what is the minimum mass of the Milky Way (in units of $10^{12}$ M$_\\odot$) ?  \n",
    "\n",
    "How does this compare to estimates of the mass assuming the Isothermal Sphere model at 260 kpc (from your answer above)"
   ]
  },
  {
   "cell_type": "code",
   "execution_count": 15,
   "metadata": {},
   "outputs": [],
   "source": [
    "#Potential for a Hernquist Sphere\n",
    "#phi = - G*M/(r+a)\n",
    "#using the hernquist potential equaiton for escape speed becomes \n",
    "#vesc^2 = 2*G*M/(r+a)\n",
    "\n",
    "#rearragining escape speed equation,\n",
    "# M = vesc^2/2/G*(r+a)\n",
    "#   = 196^2/2/G*(260+30)\n",
    "\n",
    "#Function defining total halo mass needed to set a given escape at given distance, assuming a hernquist profile\n",
    "#for dark matter halo\n",
    "\n",
    "def MassFromVesc(vesc,a,r):\n",
    "    #inputs:\n",
    "    #vesc the speed in km/s \n",
    "    #r distance from the galactic center (kpc)\n",
    "    #a Hernquist scale legth (kpc)\n",
    "    \n",
    "    #Return:\n",
    "    #total mass in Msun\n",
    "    \n",
    "    return(vesc**2/2/G*(r+a))"
   ]
  },
  {
   "cell_type": "code",
   "execution_count": 19,
   "metadata": {},
   "outputs": [
    {
     "name": "stdout",
     "output_type": "stream",
     "text": [
      "123.81790699742153\n"
     ]
    }
   ],
   "source": [
    "#Mass needed to keep Leo 1 bound\n",
    "Mleo1 = MassFromVesc(196,30,260)/(10**10)\n",
    "\n",
    "print(Mleo1)"
   ]
  },
  {
   "cell_type": "code",
   "execution_count": 20,
   "metadata": {},
   "outputs": [
    {
     "data": {
      "text/plain": [
       "2.5784204454755293"
      ]
     },
     "execution_count": 20,
     "metadata": {},
     "output_type": "execute_result"
    }
   ],
   "source": [
    "mass_260/Mleo1"
   ]
  },
  {
   "cell_type": "code",
   "execution_count": null,
   "metadata": {},
   "outputs": [],
   "source": []
  }
 ],
 "metadata": {
  "kernelspec": {
   "display_name": "Python 3",
   "language": "python",
   "name": "python3"
  },
  "language_info": {
   "codemirror_mode": {
    "name": "ipython",
    "version": 3
   },
   "file_extension": ".py",
   "mimetype": "text/x-python",
   "name": "python",
   "nbconvert_exporter": "python",
   "pygments_lexer": "ipython3",
   "version": "3.7.4"
  }
 },
 "nbformat": 4,
 "nbformat_minor": 2
}
